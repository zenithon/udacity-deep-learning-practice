{
 "cells": [
  {
   "cell_type": "code",
   "execution_count": 1,
   "metadata": {
    "collapsed": true
   },
   "outputs": [],
   "source": [
    "import tensorflow as tf"
   ]
  },
  {
   "cell_type": "markdown",
   "metadata": {},
   "source": [
    "## tf.Session"
   ]
  },
  {
   "cell_type": "code",
   "execution_count": 2,
   "metadata": {},
   "outputs": [
    {
     "name": "stdout",
     "output_type": "stream",
     "text": [
      "b'Hello, TensorFlow!'\n"
     ]
    }
   ],
   "source": [
    "hello = tf.constant('Hello, TensorFlow!')\n",
    "sess = tf.Session()\n",
    "print(sess.run(hello))"
   ]
  },
  {
   "cell_type": "markdown",
   "metadata": {},
   "source": [
    "## tf.InteractiveSession"
   ]
  },
  {
   "cell_type": "code",
   "execution_count": 3,
   "metadata": {},
   "outputs": [
    {
     "name": "stdout",
     "output_type": "stream",
     "text": [
      "b'Hello2, TensorFlow!!'\n"
     ]
    }
   ],
   "source": [
    "hello2 = tf.constant('Hello2, TensorFlow!!')\n",
    "tf.InteractiveSession()\n",
    "print(hello2.eval())"
   ]
  },
  {
   "cell_type": "markdown",
   "metadata": {},
   "source": [
    "## tf.one_hot"
   ]
  },
  {
   "cell_type": "code",
   "execution_count": 5,
   "metadata": {},
   "outputs": [
    {
     "name": "stdout",
     "output_type": "stream",
     "text": [
      "[[ 0.  1.]\n",
      " [ 0.  0.]\n",
      " [ 1.  0.]\n",
      " [ 0.  0.]\n",
      " [ 1.  0.]\n",
      " [ 0.  1.]]\n",
      "====================\n",
      "[[ 0.  1.]\n",
      " [ 0.  0.]\n",
      " [ 1.  0.]\n",
      " [ 0.  0.]\n",
      " [ 1.  0.]\n",
      " [ 0.  1.]]\n"
     ]
    }
   ],
   "source": [
    "a = [1, 5, 0, 3, 0, 1]\n",
    "b = tf.one_hot(a, 2)\n",
    "print(sess.run(b))\n",
    "print('====================')\n",
    "print(b.eval())"
   ]
  },
  {
   "cell_type": "markdown",
   "metadata": {},
   "source": [
    "## tf.reduce_sum"
   ]
  },
  {
   "cell_type": "code",
   "execution_count": 6,
   "metadata": {},
   "outputs": [
    {
     "name": "stdout",
     "output_type": "stream",
     "text": [
      "[[0 2]\n",
      " [4 0]\n",
      " [7 0]\n",
      " [9 0]]\n",
      "[2 4 7 9]\n",
      "[20  2]\n",
      "============================\n",
      "[20  2]\n"
     ]
    }
   ],
   "source": [
    "c = [[1, 2], [4, 5], [7, 8], [9, 10]]\n",
    "d = [[0, 1], [1, 0], [1, 0], [1, 0]]\n",
    "\n",
    "cd = tf.multiply(c, d) ## cg. tf.matmul\n",
    "print(sess.run(cd))\n",
    "print(sess.run(tf.reduce_sum(cd, 1)))\n",
    "print(sess.run(tf.reduce_sum(cd, 0)))\n",
    "print('============================')\n",
    "print(tf.reduce_sum(cd, 0).eval())"
   ]
  },
  {
   "cell_type": "markdown",
   "metadata": {},
   "source": [
    "## tf.shape"
   ]
  },
  {
   "cell_type": "code",
   "execution_count": 25,
   "metadata": {},
   "outputs": [
    {
     "name": "stdout",
     "output_type": "stream",
     "text": [
      "[4 2]\n",
      "Tensor(\"Mul_14:0\", shape=(4, 2), dtype=int32)\n"
     ]
    }
   ],
   "source": [
    "print(sess.run(tf.shape(cd)))\n",
    "print(cd)"
   ]
  },
  {
   "cell_type": "code",
   "execution_count": 3,
   "metadata": {
    "collapsed": true
   },
   "outputs": [],
   "source": [
    "import numpy as np"
   ]
  },
  {
   "cell_type": "markdown",
   "metadata": {},
   "source": [
    "## np.random.choice"
   ]
  },
  {
   "cell_type": "code",
   "execution_count": 4,
   "metadata": {},
   "outputs": [
    {
     "name": "stdout",
     "output_type": "stream",
     "text": [
      "[0 1 2 3 4]\n",
      "[2 3 4 1]\n"
     ]
    }
   ],
   "source": [
    "e = np.arange(5)\n",
    "print(e)\n",
    "k = np.random.choice(e, size=4, replace=False)\n",
    "print(k)"
   ]
  },
  {
   "cell_type": "code",
   "execution_count": 43,
   "metadata": {},
   "outputs": [
    {
     "name": "stdout",
     "output_type": "stream",
     "text": [
      "0.454835674476\n"
     ]
    }
   ],
   "source": [
    "p = 0.01 + (1.0 - 0.01) * np.exp(-0.0001 * 8000)\n",
    "print(p)"
   ]
  },
  {
   "cell_type": "markdown",
   "metadata": {},
   "source": [
    "## np.argmax, np.max"
   ]
  },
  {
   "cell_type": "code",
   "execution_count": 63,
   "metadata": {},
   "outputs": [
    {
     "name": "stdout",
     "output_type": "stream",
     "text": [
      "[[ 5  2  3  6]\n",
      " [ 1  1 10  9]]\n",
      "6\n",
      "[ 6 10]\n",
      "[ 5  2 10  9]\n"
     ]
    }
   ],
   "source": [
    "m = np.array([[5, 2, 3, 6], [1, 1, 10, 9]])\n",
    "print(m)\n",
    "print(np.argmax(m))\n",
    "print(np.max(m, axis=1))\n",
    "print(np.max(m, axis=0))"
   ]
  },
  {
   "cell_type": "markdown",
   "metadata": {},
   "source": [
    "## maxtrix operation"
   ]
  },
  {
   "cell_type": "code",
   "execution_count": 87,
   "metadata": {},
   "outputs": [
    {
     "name": "stdout",
     "output_type": "stream",
     "text": [
      "[[ True  True  True]\n",
      " [False  True  True]\n",
      " [ True  True  True]]\n",
      "[ True False  True]\n",
      "[[1 2]\n",
      " [3 4]\n",
      " [7 8]]\n",
      "[[1 2]\n",
      " [7 8]]\n",
      "[[0 0]\n",
      " [3 4]\n",
      " [0 0]]\n"
     ]
    }
   ],
   "source": [
    "next_states = np.array([[0, 0, 0], [1, 0, 0], [0, 0, 0]])\n",
    "print((next_states == np.zeros(next_states.shape)))\n",
    "episode_ends = (next_states == np.zeros(next_states.shape)).all(axis=1)\n",
    "print(episode_ends)\n",
    "\n",
    "target_Qs = np.array([[1, 2], [3, 4], [7, 8]])\n",
    "print(target_Qs)\n",
    "print(target_Qs[episode_ends])\n",
    "target_Qs[episode_ends] = (0, 0)\n",
    "print(target_Qs)"
   ]
  },
  {
   "cell_type": "markdown",
   "metadata": {},
   "source": [
    "## tf.reduce_mean"
   ]
  },
  {
   "cell_type": "code",
   "execution_count": 83,
   "metadata": {},
   "outputs": [
    {
     "name": "stdout",
     "output_type": "stream",
     "text": [
      "a shape =  [1 3 3 4]\n",
      "==================================\n",
      "b shape =  [1 4]\n",
      "b value =  [[  9.77777767  10.77777767  11.77777767  12.77777767]]\n",
      "==================================\n",
      "c shape =  [1 1 1 4]\n",
      "c value =  [[[[  9.77777767  10.77777767  11.77777767  12.77777767]]]]\n",
      "==================================\n",
      "d shape =  []\n",
      "d value =  11.2778\n"
     ]
    }
   ],
   "source": [
    "a = tf.constant([\n",
    "    [\n",
    "        [\n",
    "            [1., 2., 3., 4.],\n",
    "            [3., 4., 5., 6.],\n",
    "            [5., 6., 7., 8.]\n",
    "        ],\n",
    "        [\n",
    "            [7., 8., 9., 10.],\n",
    "            [9., 10., 11., 12.],\n",
    "            [11., 12., 13., 14.]\n",
    "        ],\n",
    "        [\n",
    "            [14., 15., 16., 17.],\n",
    "            [17., 18., 19., 20.],\n",
    "            [21., 22., 23., 24.]\n",
    "        ]\n",
    "    ]\n",
    "])\n",
    "\n",
    "print('a shape = ', sess.run(tf.shape(a)))\n",
    "print('==================================')\n",
    "b = tf.reduce_mean(a, (1, 2))\n",
    "print('b shape = ', sess.run(tf.shape(b)))\n",
    "print('b value = ', sess.run(b))\n",
    "print('==================================')\n",
    "c = tf.layers.average_pooling2d(a, 3, 1)\n",
    "print('c shape = ', sess.run(tf.shape(c)))\n",
    "print('c value = ', sess.run(c))\n",
    "print('==================================')\n",
    "d = tf.reduce_mean(a)\n",
    "print('d shape = ', sess.run(tf.shape(d)))\n",
    "print('d value = ', sess.run(d))"
   ]
  },
  {
   "cell_type": "markdown",
   "metadata": {},
   "source": [
    "## tf.split"
   ]
  },
  {
   "cell_type": "code",
   "execution_count": 7,
   "metadata": {},
   "outputs": [
    {
     "name": "stdout",
     "output_type": "stream",
     "text": [
      "v shape =  [3 3]\n",
      "v value = \n",
      " [[ 3  5 11]\n",
      " [ 2  4 10]\n",
      " [ 1  2  9]]\n",
      "sp01 shape =  [3 2]\n",
      "sp01 value = \n",
      " [[3 5]\n",
      " [2 4]\n",
      " [1 2]]\n",
      "sp01 squeeze value =\n",
      " [[3 5]\n",
      " [2 4]\n",
      " [1 2]]\n",
      "sp02 shape =  [3 1]\n",
      "sp02 value = \n",
      " [[11]\n",
      " [10]\n",
      " [ 9]]\n",
      "sp02 squeeze shape = [3]\n",
      "sp02 squeeze value = \n",
      " [11 10  9]\n"
     ]
    }
   ],
   "source": [
    "v = tf.constant([[3, 5, 11], [2, 4, 10], [1, 2, 9]])\n",
    "print('v shape = ', sess.run(tf.shape(v)))\n",
    "print('v value = \\n', sess.run(v))\n",
    "\n",
    "sp01, sp02 = tf.split(v, [2, 1], axis=1)\n",
    "print('sp01 shape = ', sess.run(tf.shape(sp01)))\n",
    "print('sp01 value = \\n', sess.run(sp01))\n",
    "print('sp01 squeeze value =\\n', sess.run(tf.squeeze(sp01)))\n",
    "\n",
    "print('sp02 shape = ', sess.run(tf.shape(sp02)))\n",
    "print('sp02 value = \\n', sess.run(sp02))\n",
    "\n",
    "print('sp02 squeeze shape =', sess.run(tf.shape(tf.squeeze(sp02))))\n",
    "print('sp02 squeeze value = \\n', sess.run(tf.squeeze(sp02)))"
   ]
  },
  {
   "cell_type": "markdown",
   "metadata": {},
   "source": [
    "## tf.squeeze"
   ]
  },
  {
   "cell_type": "code",
   "execution_count": 50,
   "metadata": {},
   "outputs": [
    {
     "name": "stdout",
     "output_type": "stream",
     "text": [
      "s shape =  [3 1 3]\n",
      "s value = \n",
      " [[[ 3  5 11]]\n",
      "\n",
      " [[ 2  4 10]]\n",
      "\n",
      " [[ 1  2  9]]]\n",
      "ss shape =  [3 3]\n",
      "ss value = \n",
      " [[ 3  5 11]\n",
      " [ 2  4 10]\n",
      " [ 1  2  9]]\n"
     ]
    }
   ],
   "source": [
    "s = tf.constant([\n",
    "    [\n",
    "        [3, 5, 11]\n",
    "    ],\n",
    "    [\n",
    "        [2, 4, 10]\n",
    "    ],\n",
    "    [\n",
    "        [1, 2, 9]\n",
    "    ]\n",
    "])\n",
    "\n",
    "print('s shape = ', sess.run(tf.shape(s)))\n",
    "print('s value = \\n', sess.run(s))\n",
    "\n",
    "ss = tf.squeeze(s)\n",
    "print('ss shape = ', sess.run(tf.shape(ss)))\n",
    "print('ss value = \\n', sess.run(ss))"
   ]
  },
  {
   "cell_type": "markdown",
   "metadata": {},
   "source": [
    "## tf.reduce_max"
   ]
  },
  {
   "cell_type": "code",
   "execution_count": 8,
   "metadata": {},
   "outputs": [
    {
     "name": "stdout",
     "output_type": "stream",
     "text": [
      "m shape =  [3 2]\n",
      "m value = \n",
      " [[11 12]\n",
      " [10  9]\n",
      " [ 9 15]]\n",
      "mr shape =  [3 1]\n",
      "mr value = \n",
      " [[12]\n",
      " [10]\n",
      " [15]]\n",
      "mr2 shape =  [3]\n",
      "mr2 value = \n",
      " [12 10 15]\n"
     ]
    }
   ],
   "source": [
    "m = tf.constant([\n",
    "        [11, 12],\n",
    "        [10, 9],\n",
    "        [ 9, 15]\n",
    "])\n",
    "\n",
    "print('m shape = ', sess.run(tf.shape(m)))\n",
    "print('m value = \\n', sess.run(m))\n",
    "\n",
    "mr = tf.reduce_max(m, axis=1, keep_dims=True)\n",
    "print('mr shape = ', sess.run(tf.shape(mr)))\n",
    "print('mr value = \\n', sess.run(mr))\n",
    "\n",
    "mr2 = tf.reduce_max(m, axis=1, keep_dims=False)\n",
    "print('mr2 shape = ', sess.run(tf.shape(mr2)))\n",
    "print('mr2 value = \\n', sess.run(mr2))"
   ]
  },
  {
   "cell_type": "markdown",
   "metadata": {},
   "source": [
    "## tf.reduce_sum"
   ]
  },
  {
   "cell_type": "code",
   "execution_count": 12,
   "metadata": {},
   "outputs": [
    {
     "name": "stdout",
     "output_type": "stream",
     "text": [
      "m shape =  [3 2]\n",
      "m value = \n",
      " [[11 12]\n",
      " [10  9]\n",
      " [ 9 15]]\n",
      "ms shape =  [3 1]\n",
      "ms value = \n",
      " [[23]\n",
      " [19]\n",
      " [24]]\n",
      "ms2 shape =  [3]\n",
      "ms2 value = \n",
      " [23 19 24]\n",
      "ms3 shape =  [1 2]\n",
      "ms3 value = \n",
      " [[30 36]]\n",
      "ms3_ shape =  [2]\n",
      "ms3_ value = \n",
      " [30 36]\n",
      "ms4 shape =  [1 1]\n",
      "ms4 value = \n",
      " [[66]]\n",
      "ms5 shape =  []\n",
      "ms5 value = \n",
      " 66\n"
     ]
    }
   ],
   "source": [
    "m = tf.constant([\n",
    "        [11, 12],\n",
    "        [10, 9],\n",
    "        [ 9, 15]\n",
    "])\n",
    "\n",
    "print('m shape = ', sess.run(tf.shape(m)))\n",
    "print('m value = \\n', sess.run(m))\n",
    "\n",
    "ms = tf.reduce_sum(m, axis=1, keep_dims=True)\n",
    "print('ms shape = ', sess.run(tf.shape(ms)))\n",
    "print('ms value = \\n', sess.run(ms))\n",
    "\n",
    "ms2 = tf.reduce_sum(m, axis=1, keep_dims=False)\n",
    "print('ms2 shape = ', sess.run(tf.shape(ms2)))\n",
    "print('ms2 value = \\n', sess.run(ms2))\n",
    "\n",
    "ms3 = tf.reduce_sum(m, axis=0, keep_dims=True)\n",
    "print('ms3 shape = ', sess.run(tf.shape(ms3)))\n",
    "print('ms3 value = \\n', sess.run(ms3))\n",
    "\n",
    "ms3_ = tf.reduce_sum(m, axis=0, keep_dims=False)\n",
    "print('ms3_ shape = ', sess.run(tf.shape(ms3_)))\n",
    "print('ms3_ value = \\n', sess.run(ms3_))\n",
    "\n",
    "ms4 = tf.reduce_sum(m, keep_dims=True)\n",
    "print('ms4 shape = ', sess.run(tf.shape(ms4)))\n",
    "print('ms4 value = \\n', sess.run(ms4))\n",
    "\n",
    "ms5 = tf.reduce_sum(m)\n",
    "print('ms5 shape = ', sess.run(tf.shape(ms5)))\n",
    "print('ms5 value = \\n', sess.run(ms5))"
   ]
  },
  {
   "cell_type": "markdown",
   "metadata": {},
   "source": [
    "## tf.one_hot"
   ]
  },
  {
   "cell_type": "code",
   "execution_count": 69,
   "metadata": {},
   "outputs": [
    {
     "name": "stdout",
     "output_type": "stream",
     "text": [
      "hot shape =  [3]\n",
      "hot value = \n",
      " [10  9  5]\n",
      "o_hot shape =  [ 3 11]\n",
      "o_hot value = \n",
      " [[ 0.  0.  0.  0.  0.  0.  0.  0.  0.  0.  1.]\n",
      " [ 0.  0.  0.  0.  0.  0.  0.  0.  0.  1.  0.]\n",
      " [ 0.  0.  0.  0.  0.  1.  0.  0.  0.  0.  0.]]\n"
     ]
    }
   ],
   "source": [
    "hot = tf.constant([10, 9, 5])\n",
    "\n",
    "print('hot shape = ', sess.run(tf.shape(hot)))\n",
    "print('hot value = \\n', sess.run(hot))\n",
    "\n",
    "o_hot = tf.one_hot(hot, 11, dtype=tf.float32)\n",
    "print('o_hot shape = ', sess.run(tf.shape(o_hot)))\n",
    "print('o_hot value = \\n', sess.run(o_hot))"
   ]
  },
  {
   "cell_type": "markdown",
   "metadata": {},
   "source": [
    "## tf.maximum"
   ]
  },
  {
   "cell_type": "code",
   "execution_count": 77,
   "metadata": {},
   "outputs": [
    {
     "name": "stdout",
     "output_type": "stream",
     "text": [
      "mu shape =  [3]\n",
      "mu value = \n",
      " [10  9  0]\n",
      "mu shape =  [3]\n",
      "mu value = \n",
      " [10  9  1]\n",
      "mum shape =  []\n",
      "mum value = \n",
      " 20\n"
     ]
    }
   ],
   "source": [
    "mu = tf.constant([10, 9, 0])\n",
    "\n",
    "print('mu shape = ', sess.run(tf.shape(mu)))\n",
    "print('mu value = \\n', sess.run(mu))\n",
    "\n",
    "mu = tf.maximum(1, mu)\n",
    "print('mu shape = ', sess.run(tf.shape(mu)))\n",
    "print('mu value = \\n', sess.run(mu))\n",
    "\n",
    "mum = tf.maximum(1, 20)\n",
    "print('mum shape = ', sess.run(tf.shape(mum)))\n",
    "print('mum value = \\n', sess.run(mum))"
   ]
  },
  {
   "cell_type": "markdown",
   "metadata": {},
   "source": [
    "## tf.argmax"
   ]
  },
  {
   "cell_type": "code",
   "execution_count": 80,
   "metadata": {},
   "outputs": [
    {
     "name": "stdout",
     "output_type": "stream",
     "text": [
      "m shape =  [3 3]\n",
      "m value = \n",
      " [[11 12 15]\n",
      " [10  9  4]\n",
      " [ 9 15 14]]\n",
      "argm shape =  [3]\n",
      "argm value = \n",
      " [2 0 1]\n"
     ]
    }
   ],
   "source": [
    "m = tf.constant([\n",
    "        [11, 12, 15],\n",
    "        [10, 9, 4],\n",
    "        [ 9, 15, 14]\n",
    "])\n",
    "print('m shape = ', sess.run(tf.shape(m)))\n",
    "print('m value = \\n', sess.run(m))\n",
    "\n",
    "argm = tf.argmax(m, 1)\n",
    "print('argm shape = ', sess.run(tf.shape(argm)))\n",
    "print('argm value = \\n', sess.run(argm))"
   ]
  },
  {
   "cell_type": "markdown",
   "metadata": {},
   "source": [
    "## tf.equal"
   ]
  },
  {
   "cell_type": "code",
   "execution_count": 82,
   "metadata": {},
   "outputs": [
    {
     "name": "stdout",
     "output_type": "stream",
     "text": [
      "eq shape =  [4]\n",
      "eq value =  [ True  True False  True]\n",
      "feq shape =  [4]\n",
      "feq value =  [ 1.  1.  0.  1.]\n"
     ]
    }
   ],
   "source": [
    "a_ = tf.constant([1, 0, 1, 1])\n",
    "b_ = tf.constant([1, 0, 0, 1])\n",
    "\n",
    "eq = tf.equal(a_, b_)\n",
    "print('eq shape = ', sess.run(tf.shape(eq)))\n",
    "print('eq value = ', sess.run(eq))\n",
    "\n",
    "feq = tf.to_float(eq)\n",
    "print('feq shape = ', sess.run(tf.shape(feq)))\n",
    "print('feq value = ', sess.run(feq))"
   ]
  },
  {
   "cell_type": "markdown",
   "metadata": {},
   "source": [
    "## tf.abs"
   ]
  },
  {
   "cell_type": "code",
   "execution_count": 84,
   "metadata": {},
   "outputs": [
    {
     "name": "stdout",
     "output_type": "stream",
     "text": [
      "cc_ value =  [ 1  1 20  5]\n"
     ]
    }
   ],
   "source": [
    "c_ = tf.constant([-1, 1, -20, -5])\n",
    "\n",
    "cc_ = tf.abs(c_)\n",
    "print('cc_ value = ', sess.run(cc_))"
   ]
  },
  {
   "cell_type": "code",
   "execution_count": null,
   "metadata": {
    "collapsed": true
   },
   "outputs": [],
   "source": []
  }
 ],
 "metadata": {
  "kernelspec": {
   "display_name": "Python 3",
   "language": "python",
   "name": "python3"
  },
  "language_info": {
   "codemirror_mode": {
    "name": "ipython",
    "version": 3
   },
   "file_extension": ".py",
   "mimetype": "text/x-python",
   "name": "python",
   "nbconvert_exporter": "python",
   "pygments_lexer": "ipython3",
   "version": "3.5.3"
  }
 },
 "nbformat": 4,
 "nbformat_minor": 2
}
